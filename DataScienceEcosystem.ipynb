{
 "cells": [
  {
   "cell_type": "markdown",
   "id": "42e5eee4",
   "metadata": {},
   "source": [
    "<h1>Data Science Tools and Ecosystem</h1>"
   ]
  },
  {
   "cell_type": "markdown",
   "id": "5ddc7600",
   "metadata": {},
   "source": [
    "In this notebook, Data Science Tools and Ecosystem are summarized."
   ]
  },
  {
   "cell_type": "markdown",
   "id": "4cd11362",
   "metadata": {},
   "source": [
    "<b>Some of the popular languages that Data Scientists use are:</b>\n",
    "<ol>\n",
    "    <li>Python</li>\n",
    "    <li>R</li>\n",
    "    <li>SQL</li>\n",
    "</ol>"
   ]
  },
  {
   "cell_type": "markdown",
   "id": "f6fafbf5",
   "metadata": {},
   "source": [
    "<b>Some of the popular languages that Data Scientists use are:</b>\n",
    "    <ul>\n",
    "        <li>Pandas</li>\n",
    "        <li>Tensorflow</li>\n",
    "        <li>PyTorch</li>\n",
    "        <li>SciPy</li>\n",
    "        <li>Matplotlib</li>\n",
    "    </ul>"
   ]
  },
  {
   "cell_type": "markdown",
   "id": "5bba59e8",
   "metadata": {},
   "source": [
    "|Data Science Tools|\n",
    "|-----|\n",
    "|Jupyter Notebook|\n",
    "|Apache Spark|\n",
    "|RStudio|"
   ]
  },
  {
   "cell_type": "markdown",
   "id": "a871cf85",
   "metadata": {},
   "source": [
    "<h3>Below are a few examples of evaluating arithmetic expressions in Python</h3>"
   ]
  },
  {
   "cell_type": "code",
   "execution_count": 6,
   "id": "3ac0d0f0",
   "metadata": {},
   "outputs": [
    {
     "name": "stdout",
     "output_type": "stream",
     "text": [
      "17\n",
      "True\n"
     ]
    }
   ],
   "source": [
    "# this is a simple arithmetic expression to mutiply then add integers\n",
    "eval = (3*4)+5\n",
    "print(eval)\n",
    "print(eval==17)"
   ]
  },
  {
   "cell_type": "code",
   "execution_count": 7,
   "id": "4cabd426",
   "metadata": {},
   "outputs": [
    {
     "name": "stdout",
     "output_type": "stream",
     "text": [
      "33.333333333333336\n"
     ]
    }
   ],
   "source": [
    "# this will convert 200 minutes to hours by dividing by 60\n",
    "print(200 / 6)"
   ]
  },
  {
   "cell_type": "markdown",
   "id": "0283a50a",
   "metadata": {},
   "source": [
    "<b>Objectives: </b>List popular languages for Data Science.\n",
    "<ul>\n",
    "    <li>Python</li>\n",
    "    <li>SQL</li>\n",
    "    <li>R</li>\n",
    "</ul>"
   ]
  },
  {
   "cell_type": "markdown",
   "id": "ef760c0a",
   "metadata": {},
   "source": [
    "<h2>Author</h2>\n",
    "<p>name : Fahad AlAraik</p>"
   ]
  },
  {
   "cell_type": "code",
   "execution_count": null,
   "id": "00de64c0",
   "metadata": {},
   "outputs": [],
   "source": []
  }
 ],
 "metadata": {
  "kernelspec": {
   "display_name": "Python 3 (ipykernel)",
   "language": "python",
   "name": "python3"
  },
  "language_info": {
   "codemirror_mode": {
    "name": "ipython",
    "version": 3
   },
   "file_extension": ".py",
   "mimetype": "text/x-python",
   "name": "python",
   "nbconvert_exporter": "python",
   "pygments_lexer": "ipython3",
   "version": "3.9.13"
  }
 },
 "nbformat": 4,
 "nbformat_minor": 5
}
